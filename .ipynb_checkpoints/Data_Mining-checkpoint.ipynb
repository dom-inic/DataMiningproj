{
 "cells": [
  {
   "cell_type": "code",
   "execution_count": 1,
   "id": "12551af8",
   "metadata": {},
   "outputs": [],
   "source": [
    "import numpy as np\n",
    "import pandas as pd\n",
    "import scipy\n",
    "import sklearn\n",
    "import matplotlib.pyplot as plt\n",
    "import seaborn as sns\n",
    "\n",
    "%matplotlib inline"
   ]
  },
  {
   "cell_type": "markdown",
   "id": "787e9bdd",
   "metadata": {},
   "source": [
    "Building a spam filter"
   ]
  },
  {
   "cell_type": "code",
   "execution_count": null,
   "id": "d4a53089",
   "metadata": {},
   "outputs": [],
   "source": [
    "# Grab and process the raw data.\n",
    "data_path = (\"datasets/smsspamCollection\")\n",
    "\n",
    "sms_raw = pd.read_table('datasets/smsspamCollection',  header=None)\n",
    "\n",
    "sms_raw.columns = ['spam', 'message']"
   ]
  }
 ],
 "metadata": {
  "kernelspec": {
   "display_name": "Python 3 (ipykernel)",
   "language": "python",
   "name": "python3"
  },
  "language_info": {
   "codemirror_mode": {
    "name": "ipython",
    "version": 3
   },
   "file_extension": ".py",
   "mimetype": "text/x-python",
   "name": "python",
   "nbconvert_exporter": "python",
   "pygments_lexer": "ipython3",
   "version": "3.8.2"
  }
 },
 "nbformat": 4,
 "nbformat_minor": 5
}
